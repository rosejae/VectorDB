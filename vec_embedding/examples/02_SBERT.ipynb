{
 "cells": [
  {
   "cell_type": "code",
   "execution_count": 1,
   "id": "88397059",
   "metadata": {},
   "outputs": [
    {
     "name": "stderr",
     "output_type": "stream",
     "text": [
      "c:\\Users\\jjsd4\\miniconda3\\envs\\torch_env\\lib\\site-packages\\tqdm\\auto.py:21: TqdmWarning: IProgress not found. Please update jupyter and ipywidgets. See https://ipywidgets.readthedocs.io/en/stable/user_install.html\n",
      "  from .autonotebook import tqdm as notebook_tqdm\n"
     ]
    }
   ],
   "source": [
    "from sentence_transformers import SentenceTransformer, util\n",
    "import torch"
   ]
  },
  {
   "cell_type": "code",
   "execution_count": 2,
   "id": "f595d036",
   "metadata": {},
   "outputs": [
    {
     "name": "stderr",
     "output_type": "stream",
     "text": [
      "c:\\Users\\jjsd4\\miniconda3\\envs\\torch_env\\lib\\site-packages\\huggingface_hub\\file_download.py:143: UserWarning: `huggingface_hub` cache-system uses symlinks by default to efficiently store duplicated files but your machine does not support them in C:\\Users\\jjsd4\\.cache\\huggingface\\hub\\models--sentence-transformers--all-MiniLM-L6-v2. Caching files will still work but in a degraded version that might require more space on your disk. This warning can be disabled by setting the `HF_HUB_DISABLE_SYMLINKS_WARNING` environment variable. For more details, see https://huggingface.co/docs/huggingface_hub/how-to-cache#limitations.\n",
      "To support symlinks on Windows, you either need to activate Developer Mode or to run Python as an administrator. In order to activate developer mode, see this article: https://docs.microsoft.com/en-us/windows/apps/get-started/enable-your-device-for-development\n",
      "  warnings.warn(message)\n",
      "Xet Storage is enabled for this repo, but the 'hf_xet' package is not installed. Falling back to regular HTTP download. For better performance, install the package with: `pip install huggingface_hub[hf_xet]` or `pip install hf_xet`\n"
     ]
    }
   ],
   "source": [
    "model = SentenceTransformer('all-MiniLM-L6-v2')"
   ]
  },
  {
   "cell_type": "code",
   "execution_count": 3,
   "id": "fc4ac599",
   "metadata": {},
   "outputs": [],
   "source": [
    "# 예시 문장\n",
    "sentences = [\n",
    "    \"A man is eating food.\",\n",
    "    \"A man is eating a piece of bread.\",\n",
    "    \"The girl is carrying a baby.\",\n",
    "    \"A man is riding a horse.\",\n",
    "    \"A woman is playing violin.\"\n",
    "]\n",
    "\n",
    "# 임베딩화\n",
    "embeddings = model.encode(sentences)"
   ]
  },
  {
   "cell_type": "code",
   "execution_count": 6,
   "id": "88708ce5",
   "metadata": {},
   "outputs": [
    {
     "data": {
      "text/plain": [
       "(5, 384)"
      ]
     },
     "execution_count": 6,
     "metadata": {},
     "output_type": "execute_result"
    }
   ],
   "source": [
    "embeddings.shape"
   ]
  },
  {
   "cell_type": "code",
   "execution_count": 5,
   "id": "a1e92820",
   "metadata": {},
   "outputs": [
    {
     "data": {
      "text/plain": [
       "array([[ 0.03324157,  0.00440613, -0.00627694, ...,  0.06917296,\n",
       "        -0.02458482, -0.03756436],\n",
       "       [ 0.05251843,  0.05524132, -0.0111882 , ..., -0.01619389,\n",
       "        -0.060229  , -0.04115056],\n",
       "       [-0.03630894, -0.03565347, -0.02722264, ..., -0.03858706,\n",
       "         0.10574473, -0.00131469],\n",
       "       [-0.00462491, -0.01413293,  0.04100329, ...,  0.00743566,\n",
       "         0.06817716, -0.02425219],\n",
       "       [-0.02668153, -0.0987884 ,  0.028563  , ...,  0.02552059,\n",
       "         0.09566616, -0.00743377]], dtype=float32)"
      ]
     },
     "execution_count": 5,
     "metadata": {},
     "output_type": "execute_result"
    }
   ],
   "source": [
    "embeddings"
   ]
  },
  {
   "cell_type": "code",
   "execution_count": 7,
   "id": "273b75ce",
   "metadata": {},
   "outputs": [
    {
     "name": "stdout",
     "output_type": "stream",
     "text": [
      "문장 유사도: 0.755337119102478\n"
     ]
    }
   ],
   "source": [
    "# 예시문장 유사도 계산\n",
    "similarity = util.pytorch_cos_sim(embeddings[0], embeddings[1])\n",
    "print(\"문장 유사도:\", similarity.item())"
   ]
  },
  {
   "cell_type": "code",
   "execution_count": 8,
   "id": "5c279b4e",
   "metadata": {},
   "outputs": [
    {
     "name": "stdout",
     "output_type": "stream",
     "text": [
      "문장 유사도: 0.2474014163017273\n"
     ]
    }
   ],
   "source": [
    "# 예시문장 유사도 계산\n",
    "similarity = util.pytorch_cos_sim(embeddings[0], embeddings[3])\n",
    "print(\"문장 유사도:\", similarity.item())"
   ]
  },
  {
   "cell_type": "code",
   "execution_count": 9,
   "id": "820abf94",
   "metadata": {},
   "outputs": [
    {
     "name": "stdout",
     "output_type": "stream",
     "text": [
      "문장 유사도: -0.07038549333810806\n"
     ]
    }
   ],
   "source": [
    "# 예시문장 유사도 계산\n",
    "similarity = util.pytorch_cos_sim(embeddings[0], embeddings[4])\n",
    "print(\"문장 유사도:\", similarity.item())"
   ]
  },
  {
   "cell_type": "code",
   "execution_count": 11,
   "id": "a0898788",
   "metadata": {},
   "outputs": [
    {
     "name": "stdout",
     "output_type": "stream",
     "text": [
      "\n",
      "Cluster 1\n",
      "A man is eating food.\n",
      "A man is eating a piece of bread.\n",
      "A man is riding a horse.\n",
      "\n",
      "Cluster 2\n",
      "The girl is carrying a baby.\n",
      "A woman is playing violin.\n"
     ]
    }
   ],
   "source": [
    "# 클러스터링\n",
    "from sklearn.cluster import KMeans\n",
    "\n",
    "num_clusters = 2\n",
    "\n",
    "clustering_model = KMeans(n_clusters=num_clusters)\n",
    "clustering_model.fit(embeddings)\n",
    "cluster_assignment = clustering_model.labels_\n",
    "\n",
    "for i in range(num_clusters):\n",
    "    print(f\"\\nCluster {i+1}\")\n",
    "    cluster_sentences = [sentences[j] for j in range(len(sentences)) if cluster_assignment[j] == i]\n",
    "    for sentence in cluster_sentences:\n",
    "        print(sentence)"
   ]
  },
  {
   "cell_type": "code",
   "execution_count": 12,
   "id": "f089302b",
   "metadata": {},
   "outputs": [
    {
     "name": "stdout",
     "output_type": "stream",
     "text": [
      "\n",
      "Cluster 1\n",
      "The girl is carrying a baby.\n",
      "A woman is playing violin.\n",
      "\n",
      "Cluster 2\n",
      "A man is eating food.\n",
      "A man is eating a piece of bread.\n",
      "\n",
      "Cluster 3\n",
      "A man is riding a horse.\n"
     ]
    }
   ],
   "source": [
    "# 클러스터링\n",
    "from sklearn.cluster import KMeans\n",
    "\n",
    "num_clusters = 3\n",
    "\n",
    "clustering_model = KMeans(n_clusters=num_clusters)\n",
    "clustering_model.fit(embeddings)\n",
    "cluster_assignment = clustering_model.labels_\n",
    "\n",
    "for i in range(num_clusters):\n",
    "    print(f\"\\nCluster {i+1}\")\n",
    "    cluster_sentences = [sentences[j] for j in range(len(sentences)) if cluster_assignment[j] == i]\n",
    "    for sentence in cluster_sentences:\n",
    "        print(sentence)"
   ]
  },
  {
   "cell_type": "code",
   "execution_count": 13,
   "id": "02b1e9f5",
   "metadata": {},
   "outputs": [],
   "source": [
    "# 쿼리 예시\n",
    "sentences = [\n",
    "    \"우리나라 대통령 중 4대 대통령 전 대통령이 누구야?\", #질문 문장\n",
    "    \"대한민국 1대 대통령은 이승만이다.\", #대상 문장\n",
    "    \"대한민국 2대 대통령은 이승만이다.\", #대상 문장\n",
    "    \"대한민국 3대 대통령은 이승만이다.\", #대상 문장\n",
    "    \"대한민국 4대 대통령은 윤보선이다.\", #대상 문장\n",
    "]\n",
    "\n",
    "embeddings = model.encode(sentences)"
   ]
  },
  {
   "cell_type": "code",
   "execution_count": 14,
   "id": "d273efef",
   "metadata": {},
   "outputs": [
    {
     "name": "stdout",
     "output_type": "stream",
     "text": [
      "문장 유사도: 0.568516731262207\n"
     ]
    }
   ],
   "source": [
    "# 쿼리에 대한 유사도 계산\n",
    "similarity = util.pytorch_cos_sim(embeddings[0],embeddings[1])\n",
    "print(\"문장 유사도:\", similarity.item())"
   ]
  },
  {
   "cell_type": "code",
   "execution_count": 15,
   "id": "19fb9eb6",
   "metadata": {},
   "outputs": [
    {
     "name": "stdout",
     "output_type": "stream",
     "text": [
      "문장 유사도: 0.5799103379249573\n"
     ]
    }
   ],
   "source": [
    "similarity = util.pytorch_cos_sim(embeddings[0], embeddings[2])\n",
    "print(\"문장 유사도:\", similarity.item())"
   ]
  },
  {
   "cell_type": "code",
   "execution_count": 16,
   "id": "033d0261",
   "metadata": {},
   "outputs": [
    {
     "name": "stdout",
     "output_type": "stream",
     "text": [
      "문장 유사도: 0.5694818496704102\n"
     ]
    }
   ],
   "source": [
    "similarity = util.pytorch_cos_sim(embeddings[0], embeddings[3])\n",
    "print(\"문장 유사도:\", similarity.item())"
   ]
  },
  {
   "cell_type": "code",
   "execution_count": null,
   "id": "ed475026",
   "metadata": {},
   "outputs": [
    {
     "name": "stdout",
     "output_type": "stream",
     "text": [
      "문장 유사도: 0.7418656349182129\n"
     ]
    }
   ],
   "source": [
    "similarity = util.pytorch_cos_sim(embeddings[0], embeddings[4])\n",
    "print(\"문장 유사도:\", similarity.item())"
   ]
  },
  {
   "cell_type": "markdown",
   "id": "0133d1d7",
   "metadata": {},
   "source": [
    "#명확하게 사용자가 질문을 하지 않으면 (사용자가 실제로 애매한 질문을 하는 경우가 상당히 많음)\n",
    "-> 우리가 구성한 프로그램이 제대로 된 답변을 내놓지 않는다고 생각함"
   ]
  },
  {
   "cell_type": "markdown",
   "id": "8eac7f2d",
   "metadata": {},
   "source": []
  }
 ],
 "metadata": {
  "kernelspec": {
   "display_name": "torch_env",
   "language": "python",
   "name": "python3"
  },
  "language_info": {
   "codemirror_mode": {
    "name": "ipython",
    "version": 3
   },
   "file_extension": ".py",
   "mimetype": "text/x-python",
   "name": "python",
   "nbconvert_exporter": "python",
   "pygments_lexer": "ipython3",
   "version": "3.10.16"
  }
 },
 "nbformat": 4,
 "nbformat_minor": 5
}
