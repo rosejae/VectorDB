{
 "cells": [
  {
   "cell_type": "code",
   "execution_count": 2,
   "id": "fb5bebeb",
   "metadata": {},
   "outputs": [
    {
     "name": "stderr",
     "output_type": "stream",
     "text": [
      "c:\\Users\\jjsd4\\miniconda3\\envs\\torch_env\\lib\\site-packages\\tqdm\\auto.py:21: TqdmWarning: IProgress not found. Please update jupyter and ipywidgets. See https://ipywidgets.readthedocs.io/en/stable/user_install.html\n",
      "  from .autonotebook import tqdm as notebook_tqdm\n",
      "Device set to use cuda:0\n"
     ]
    }
   ],
   "source": [
    "# 감성분석 사전학습모델 로딩\n",
    "from transformers import pipeline\n",
    "\n",
    "sentiment_analyzer = pipeline(\"text-classification\", model=\"matthewburke/korean_sentiment\")"
   ]
  },
  {
   "cell_type": "code",
   "execution_count": 3,
   "id": "4068ff58",
   "metadata": {},
   "outputs": [
    {
     "name": "stdout",
     "output_type": "stream",
     "text": [
      "[{'label': 'LABEL_0', 'score': 0.9413960576057434}]\n"
     ]
    }
   ],
   "source": [
    "text = \"배달만 1시간이 걸렸고 음식은 다 식어서 왔어요. 다시는 안시킵니다.\"\n",
    "\n",
    "print(sentiment_analyzer(text))"
   ]
  },
  {
   "cell_type": "code",
   "execution_count": 4,
   "id": "011f884d",
   "metadata": {},
   "outputs": [
    {
     "name": "stdout",
     "output_type": "stream",
     "text": [
      "[{'label': 'LABEL_1', 'score': 0.9723252654075623}]\n"
     ]
    }
   ],
   "source": [
    "text = \"배달이 정말 빨랐고 맛도 있었어요!\"\n",
    "\n",
    "print(sentiment_analyzer(text))"
   ]
  },
  {
   "cell_type": "code",
   "execution_count": 5,
   "id": "2082c78a",
   "metadata": {},
   "outputs": [
    {
     "name": "stderr",
     "output_type": "stream",
     "text": [
      "c:\\Users\\jjsd4\\miniconda3\\envs\\torch_env\\lib\\site-packages\\huggingface_hub\\file_download.py:143: UserWarning: `huggingface_hub` cache-system uses symlinks by default to efficiently store duplicated files but your machine does not support them in C:\\Users\\jjsd4\\.cache\\huggingface\\hub\\models--Helsinki-NLP--opus-mt-en-fr. Caching files will still work but in a degraded version that might require more space on your disk. This warning can be disabled by setting the `HF_HUB_DISABLE_SYMLINKS_WARNING` environment variable. For more details, see https://huggingface.co/docs/huggingface_hub/how-to-cache#limitations.\n",
      "To support symlinks on Windows, you either need to activate Developer Mode or to run Python as an administrator. In order to activate developer mode, see this article: https://docs.microsoft.com/en-us/windows/apps/get-started/enable-your-device-for-development\n",
      "  warnings.warn(message)\n",
      "c:\\Users\\jjsd4\\miniconda3\\envs\\torch_env\\lib\\site-packages\\transformers\\models\\marian\\tokenization_marian.py:177: UserWarning: Recommended: pip install sacremoses.\n",
      "  warnings.warn(\"Recommended: pip install sacremoses.\")\n",
      "Device set to use cuda:0\n"
     ]
    }
   ],
   "source": [
    "# 번역 모델 로딩\n",
    "translator = pipeline('translation_en_to_fr', model='Helsinki-NLP/opus-mt-en-fr')"
   ]
  },
  {
   "cell_type": "code",
   "execution_count": 6,
   "id": "c8c23070",
   "metadata": {},
   "outputs": [
    {
     "name": "stdout",
     "output_type": "stream",
     "text": [
      "영어:  The weather is cold\n",
      "불어:  Le temps est froid\n"
     ]
    }
   ],
   "source": [
    "english = \"The weather is cold\"\n",
    "\n",
    "translated_text = translator(english)\n",
    "print(\"영어: \", english)\n",
    "print(\"불어: \", translated_text[0]['translation_text'])"
   ]
  },
  {
   "cell_type": "code",
   "execution_count": 7,
   "id": "8cea66dc",
   "metadata": {},
   "outputs": [
    {
     "name": "stdout",
     "output_type": "stream",
     "text": [
      "[{'label': 'LABEL_1', 'score': 0.6895159482955933}]\n"
     ]
    }
   ],
   "source": [
    "text = \"우리 정글은 맨날 던지네\"\n",
    "\n",
    "#직접 입력:\n",
    "print(sentiment_analyzer(text))"
   ]
  },
  {
   "cell_type": "code",
   "execution_count": 8,
   "id": "2a5b971e",
   "metadata": {},
   "outputs": [
    {
     "name": "stdout",
     "output_type": "stream",
     "text": [
      "영어 : break a leg\n",
      "불어 : casser une jambe\n"
     ]
    }
   ],
   "source": [
    "english_idiom = \"break a leg\"\n",
    "\n",
    "# 직접 입력:\n",
    "translated_text = translator(english_idiom)\n",
    "print(\"영어 :\", english_idiom)\n",
    "print(\"불어 :\", translated_text[0]['translation_text'])"
   ]
  }
 ],
 "metadata": {
  "kernelspec": {
   "display_name": "torch_env",
   "language": "python",
   "name": "python3"
  },
  "language_info": {
   "codemirror_mode": {
    "name": "ipython",
    "version": 3
   },
   "file_extension": ".py",
   "mimetype": "text/x-python",
   "name": "python",
   "nbconvert_exporter": "python",
   "pygments_lexer": "ipython3",
   "version": "3.10.16"
  }
 },
 "nbformat": 4,
 "nbformat_minor": 5
}
